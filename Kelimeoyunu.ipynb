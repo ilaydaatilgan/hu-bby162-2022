{
  "nbformat": 4,
  "nbformat_minor": 0,
  "metadata": {
    "colab": {
      "name": "Kelimeoyunu.ipynb",
      "provenance": [],
      "authorship_tag": "ABX9TyPvCZeHi+U/iPpdzaLPkxuB",
      "include_colab_link": true
    },
    "kernelspec": {
      "name": "python3",
      "display_name": "Python 3"
    },
    "language_info": {
      "name": "python"
    }
  },
  "cells": [
    {
      "cell_type": "markdown",
      "metadata": {
        "id": "view-in-github",
        "colab_type": "text"
      },
      "source": [
        "<a href=\"https://colab.research.google.com/github/ilaydaatilgan/hu-bby162-2022/blob/main/Kelimeoyunu.ipynb\" target=\"_parent\"><img src=\"https://colab.research.google.com/assets/colab-badge.svg\" alt=\"Open In Colab\"/></a>"
      ]
    },
    {
      "cell_type": "code",
      "execution_count": 4,
      "metadata": {
        "colab": {
          "base_uri": "https://localhost:8080/"
        },
        "id": "KaLj5VH4mmHd",
        "outputId": "766228cd-6eda-4e38-a73c-9bc86d9108ad"
      },
      "outputs": [
        {
          "output_type": "stream",
          "name": "stdout",
          "text": [
            "Türkiyede en çok tercih edilen tatil yerleri nelerdir?\n",
            "tahmininizi giriniz: Fethiye\n",
            "Tebrikler, doğru cevap\n",
            "tahmininizi giriniz: rize\n",
            "Üzgünüz, yanlış cevap \n",
            "tahmininizi giriniz: Foça\n",
            "Tebrikler, doğru cevap\n",
            "tahmininizi giriniz: bartın\n",
            "Üzgünüz, yanlış cevap \n",
            "tahmininizi giriniz: kayseri\n",
            "Üzgünüz, yanlış cevap \n",
            "Oyunu kaybettiniz\n"
          ]
        }
      ],
      "source": [
        "print(\"Türkiyede en çok tercih edilen tatil yerleri nelerdir?\")\n",
        "liste = (\"Fethiye\", \"Kaş\", \"Kapadokya\", \"Bodrum\", \"Ayvalık\", \"Şile\", \"Foça\")\n",
        "can=3\n",
        "while can > 0:\n",
        "  tahmin = input(\"tahmininizi giriniz: \")\n",
        "  if tahmin in liste:\n",
        "    print(\"Tebrikler, doğru cevap\")\n",
        "  else:\n",
        "    print(\"Üzgünüz, yanlış cevap \")\n",
        "    can = can -1\n",
        "if can == 0:\n",
        "  print(\"Oyunu kaybettiniz\")\n",
        "if can == 3:\n",
        "  print(\"Oyunu kazandınız\")"
      ]
    },
    {
      "cell_type": "code",
      "source": [
        ""
      ],
      "metadata": {
        "id": "OUhS-gb6qA2x"
      },
      "execution_count": null,
      "outputs": []
    }
  ]
}