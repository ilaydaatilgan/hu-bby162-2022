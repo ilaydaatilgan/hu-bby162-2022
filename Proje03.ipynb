{
  "nbformat": 4,
  "nbformat_minor": 0,
  "metadata": {
    "colab": {
      "name": "Proje03.ipynb",
      "provenance": [],
      "authorship_tag": "ABX9TyMMrqaWRaPaGk1c113lbl05",
      "include_colab_link": true
    },
    "kernelspec": {
      "name": "python3",
      "display_name": "Python 3"
    },
    "language_info": {
      "name": "python"
    }
  },
  "cells": [
    {
      "cell_type": "markdown",
      "metadata": {
        "id": "view-in-github",
        "colab_type": "text"
      },
      "source": [
        "<a href=\"https://colab.research.google.com/github/ilaydaatilgan/hu-bby162-2022/blob/main/Proje03.ipynb\" target=\"_parent\"><img src=\"https://colab.research.google.com/assets/colab-badge.svg\" alt=\"Open In Colab\"/></a>"
      ]
    },
    {
      "cell_type": "code",
      "execution_count": 7,
      "metadata": {
        "colab": {
          "base_uri": "https://localhost:8080/"
        },
        "id": "9uNN6cG-Qh5-",
        "outputId": "232165b4-8ea6-4a79-f10b-97bb6eaf2854"
      },
      "outputs": [
        {
          "output_type": "stream",
          "name": "stdout",
          "text": [
            "eğlenceli teste hoşgeldiniz :)\n",
            "cevaplarınız evet ya da hayır olarak giriniz.\n",
            "1. 3+5=8 midir?\n",
            "cevabınız: hayır\n",
            "Yanlış bildiniz.\n",
            "2. 4+2=9 mudur?\n",
            "cevabınız: evet\n",
            "Yanlış bildiniz.\n",
            "3. 3+6=7 midir?\n",
            "cevabınız: evet\n",
            "Yanlış bildiniz.\n",
            "5. 4+1=5 midir?\n",
            "cevabınız: evet\n",
            "Tebrikler, doğru bildiniz.\n"
          ]
        }
      ],
      "source": [
        "import time\n",
        "import sys\n",
        "print(\"eğlenceli teste hoşgeldiniz :)\")\n",
        "time.sleep(2)\n",
        "print(\"cevaplarınız evet ya da hayır olarak giriniz.\")\n",
        "\n",
        "sorular = [\"3+5=8 midir?\", \"4+2=9 mudur?\", \"3+6=7 midir?\", \"5+6=11 midir?\", \"4+1=5 midir?\"]\n",
        "time.sleep(2)\n",
        "cevaplar = [\"evet\", \"hayır\", \"hayır\", \"evet\", \"evet\"]\n",
        "time.sleep(2)\n",
        "\n",
        "puan = 0\n",
        "\n",
        "print(\"1. \" + sorular[0])\n",
        "cevap = input(\"cevabınız: \")\n",
        "if cevap == cevaplar[0]:\n",
        "  print(\"Tebrikler, doğru bildiniz.\")\n",
        "  puan +=1\n",
        "else:\n",
        "  print(\"Yanlış bildiniz.\")\n",
        "print(\"2. \" + sorular[1])\n",
        "cevap = input(\"cevabınız: \")\n",
        "if cevap == cevaplar[1]:\n",
        "  print(\"Tebrikler, doğru bildiniz.\")\n",
        "  puan += 1\n",
        "else:\n",
        "  print(\"Yanlış bildiniz.\")\n",
        "print(\"3. \" + sorular[2])\n",
        "cevap = input(\"cevabınız: \")\n",
        "if cevap == cevaplar[2]:\n",
        "  print(\"Tebrikler, doğru bildiniz.\")\n",
        "else: \n",
        "  print(\"Yanlış bildiniz.\")\n",
        "print(\"5. \" + sorular[4])\n",
        "cevap == input(\"cevabınız: \")\n",
        "if cevap == cevaplar[4]:\n",
        "  print(\"Tebrikler, doğru bildiniz.\")\n",
        "  puan += 1\n",
        "else:\n",
        " print(\"Yanlış bildiniz.\")\n",
        "\n",
        "\n",
        " print(puan)"
      ]
    }
  ]
}