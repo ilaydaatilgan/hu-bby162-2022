{
  "nbformat": 4,
  "nbformat_minor": 0,
  "metadata": {
    "colab": {
      "name": "Untitled0.ipynb",
      "provenance": [],
      "authorship_tag": "ABX9TyMr5FeGnE/2ArWaiQVJeajy",
      "include_colab_link": true
    },
    "kernelspec": {
      "name": "python3",
      "display_name": "Python 3"
    },
    "language_info": {
      "name": "python"
    }
  },
  "cells": [
    {
      "cell_type": "markdown",
      "metadata": {
        "id": "view-in-github",
        "colab_type": "text"
      },
      "source": [
        "<a href=\"https://colab.research.google.com/github/ilaydaatilgan/hu-bby162-2022/blob/main/Untitled0.ipynb\" target=\"_parent\"><img src=\"https://colab.research.google.com/assets/colab-badge.svg\" alt=\"Open In Colab\"/></a>"
      ]
    },
    {
      "cell_type": "code",
      "execution_count": 6,
      "metadata": {
        "colab": {
          "base_uri": "https://localhost:8080/"
        },
        "id": "s_WECYHbjZHy",
        "outputId": "82f553a2-2d47-41c2-f8ce-43ab47169b43"
      },
      "outputs": [
        {
          "output_type": "stream",
          "name": "stdout",
          "text": [
            " Bilimsel\n",
            " İletişim\n",
            "Dersi\n"
          ]
        }
      ],
      "source": [
        "metin = \" Bilimsel İletişim Dersi\"\n",
        "dilimle = metin[:9]\n",
        "print(dilimle)\n",
        "metin2 = \"Bilimsel İletişim Dersi\"\n",
        "dilimle2 = metin2[8:17]\n",
        "print(dilimle2)\n",
        "metin3 = \"Bilimsel İletişim Dersi\"\n",
        "dilimle3 = metin3[-5:]\n",
        "print(dilimle3)\n",
        "#Çıktı:\n",
        "#Bilimsel\n",
        "#İletişim\n",
        "#Dersi"
      ]
    }
  ]
}