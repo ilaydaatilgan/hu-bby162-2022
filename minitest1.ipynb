{
  "nbformat": 4,
  "nbformat_minor": 0,
  "metadata": {
    "colab": {
      "name": "minitest1.ipynb",
      "provenance": [],
      "authorship_tag": "ABX9TyPMQLVW+qaTiS2KbdxSCe1U",
      "include_colab_link": true
    },
    "kernelspec": {
      "name": "python3",
      "display_name": "Python 3"
    },
    "language_info": {
      "name": "python"
    }
  },
  "cells": [
    {
      "cell_type": "markdown",
      "metadata": {
        "id": "view-in-github",
        "colab_type": "text"
      },
      "source": [
        "<a href=\"https://colab.research.google.com/github/ilaydaatilgan/hu-bby162-2022/blob/main/minitest1.ipynb\" target=\"_parent\"><img src=\"https://colab.research.google.com/assets/colab-badge.svg\" alt=\"Open In Colab\"/></a>"
      ]
    },
    {
      "cell_type": "code",
      "execution_count": null,
      "metadata": {
        "colab": {
          "base_uri": "https://localhost:8080/"
        },
        "id": "xwC6bOS_4Sq3",
        "outputId": "4dcef49a-9a64-4d9c-da17-bcaf925e1bd0"
      },
      "outputs": [
        {
          "output_type": "stream",
          "name": "stdout",
          "text": [
            "Bu heyecanlı teste hoşgeldiniz.\n",
            "cevaplarınızı a ve b olarak giriniz.\n",
            "1. matematik\n"
          ]
        }
      ],
      "source": [
        "# MiniTest\n",
        "print(\"Bu heyecanlı teste hoşgeldiniz.\")\n",
        "print(\"cevaplarınızı a ve b olarak giriniz.\")\n",
        "\n",
        "sorular = [\"matematik\", \"türkçe\", \"felsefe\", \"fizik\", \"kimya\"]\n",
        "cevaplar = [\"a\", \"b\", \"b\", \"a\", \"b\"]\n",
        "\n",
        "puan = 0\n",
        "\n",
        "print(\"1. \" + sorular[0])\n",
        "cevap = input(\"Cevabınız:\")\n",
        "if cevap == cevaplar[0]:\n",
        "  print(\"Tebrikler, doğru bildiniz.\")\n",
        "  puan +=1\n",
        "else:\n",
        "  print(\"Yanlış bildiniz.\")\n",
        "print(\"2. \" + sorular[1]) \n",
        "cevap = input(\"Cevabınız: \")\n",
        "if cevap == cevaplar[1]:\n",
        "   print(\"Tebrikler, doğru bildiniz.\")\n",
        "   puan += 1\n",
        "else:\n",
        "  print(\"Yanlış bildiniz.\")\n",
        "print(\"3. \" + sorular[2])\n",
        "cevap = input(\"Cevabınız:\")\n",
        "if cevap == cevaplar[2]:\n",
        "  print(\"Tebrikler, doğru bildiniz.\")\n",
        "else:\n",
        "  print(\"Yanlış bildiniz.\")\n",
        "print(\"5. \" + sorular[4])\n",
        "cevap = input(\"Cevabınız: \")\n",
        "if cevap == cevaplar[4]:\n",
        "  print(\"Tebrikler, doğru bildiniz.\")\n",
        "  puan += 1\n",
        "else:\n",
        " print(\"Yanlış bildiniz.\")\n",
        "\n",
        " print(puan)\n"
      ]
    }
  ]
}