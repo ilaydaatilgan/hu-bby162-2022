{
  "nbformat": 4,
  "nbformat_minor": 0,
  "metadata": {
    "colab": {
      "name": "proje01.ipynb",
      "provenance": [],
      "authorship_tag": "ABX9TyOmx+/TyN73+qyHkvH+03Tl",
      "include_colab_link": true
    },
    "kernelspec": {
      "name": "python3",
      "display_name": "Python 3"
    },
    "language_info": {
      "name": "python"
    }
  },
  "cells": [
    {
      "cell_type": "markdown",
      "metadata": {
        "id": "view-in-github",
        "colab_type": "text"
      },
      "source": [
        "<a href=\"https://colab.research.google.com/github/ilaydaatilgan/hu-bby162-2022/blob/main/proje01.ipynb\" target=\"_parent\"><img src=\"https://colab.research.google.com/assets/colab-badge.svg\" alt=\"Open In Colab\"/></a>"
      ]
    },
    {
      "cell_type": "code",
      "execution_count": 2,
      "metadata": {
        "id": "RRYmYnM1tuiz",
        "colab": {
          "base_uri": "https://localhost:8080/"
        },
        "outputId": "26f47a99-3469-481e-81ef-c00da9d9ed6d"
      },
      "outputs": [
        {
          "output_type": "stream",
          "name": "stdout",
          "text": [
            "İndeks numarasını giriniz:  girmeyeceğim\n",
            "indeks dışı giriş..!\n"
          ]
        }
      ],
      "source": [
        "liste = (\"tavşan\", \"marul\", \"leopar\", \"salam\", \"demir\", \"tahta\")\n",
        "secim = input(\"İndeks numarasını giriniz:  \")\n",
        "\n",
        "if secim. isdigit():\n",
        "  secim=int(secim)\n",
        "  listetoplam = len(liste)\n",
        "  if secim < listeToplam:\n",
        "     print(liste[secim])\n",
        "else:\n",
        "  print(\"indeks dışı giriş..!\")\n",
        "  "
      ]
    }
  ]
}