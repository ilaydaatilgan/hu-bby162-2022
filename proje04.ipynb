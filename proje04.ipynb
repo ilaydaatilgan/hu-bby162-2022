{
  "nbformat": 4,
  "nbformat_minor": 0,
  "metadata": {
    "colab": {
      "name": "proje04.ipynb",
      "provenance": [],
      "mount_file_id": "1JU63qtsyyQbGuxzX6TpBblS1j4eq1ebZ",
      "authorship_tag": "ABX9TyNEu5PVuUomxwYw/W7WWM5t",
      "include_colab_link": true
    },
    "kernelspec": {
      "name": "python3",
      "display_name": "Python 3"
    },
    "language_info": {
      "name": "python"
    }
  },
  "cells": [
    {
      "cell_type": "markdown",
      "metadata": {
        "id": "view-in-github",
        "colab_type": "text"
      },
      "source": [
        "<a href=\"https://colab.research.google.com/github/ilaydaatilgan/hu-bby162-2022/blob/main/proje04.ipynb\" target=\"_parent\"><img src=\"https://colab.research.google.com/assets/colab-badge.svg\" alt=\"Open In Colab\"/></a>"
      ]
    },
    {
      "cell_type": "code",
      "execution_count": null,
      "metadata": {
        "id": "Oef5lCxhkepG"
      },
      "outputs": [],
      "source": [
        "from google.colab import drive\n",
        "drive.mount('/content/drive')\n",
        "\n",
        "\n",
        "dosyaYolu = \"/content/drive/MyDrive/Colab Notebooks/veritabani.txt.ipynb adlı not defterinin kopyası\"\n",
        "\n",
        "print(\"Kütüphane Kataloğuna Hoşgeldiniz...\")\n",
        "def kayitlarListesi():\n",
        "  dosya = open(dosyaYolu, \"r\")\n",
        "  for line in dosya.readlines():\n",
        "    print(line)\n",
        "    dosya.close()\n",
        "\n",
        "def yeniKayitEkle():\n",
        "  kitapAdı = input(\"Lütfen kitap adını giriniz:  \")\n",
        "  yazarAdı = input(\"Lütfen yazar adını giriniz:  \")\n",
        "  basımYılı = input(\"Lütfen basım yılını giriniz:  \")\n",
        "  yayınEvi = input(\"Lütfen yayınevini giriniz: \")\n",
        "  dosya = open(dosyaYolu, \"a\")\n",
        "  dosya.write(kitapAdı + \" , \"+ yazarAdı + \" , \" + basımYılı + \" , \" + yayınEvi +\" , \" + \"\\n\")\n",
        "  dosya.close()\n",
        "  print(\"\\n\" + \" Kitap eklenmiştir\" + \"\\n\")\n",
        "  menu()\n",
        "\n",
        "def kayitAra():\n",
        "  dosya = open(dosyaYolu)\n",
        "  arananKitap = input(\"Lütfen aradığınız kitabın adını giriniz: \")\n",
        "  dosya = open(dosyaYolu, \"r\")\n",
        "  arananKitaplar = dosya.read().find(arananKitap)\n",
        "  if arananKitaplar:\n",
        "    print(\"Aradığınız kitap bulunmaktadır!\")\n",
        "  elif arananKitaplar:\n",
        "     print(\"Aradığınız kitap bulunmamaktadır!\")\n",
        "\n",
        "\n",
        "def menu():\n",
        "  while True:\n",
        "    menuSecim = input(\"\\n Lütfen yapmak istediğiniz işlemi giriniz... \\n 1-Kayıtları Listele \\n 2-Yeni Kayıt Ekle \\n 3-Kayıt Ara \\n 4-Çıkış \\n\")\n",
        "\n",
        "    if menuSecim == \"1\":\n",
        "      print(\"kayıtları listele\")\n",
        "      kayitlarListesi()\n",
        "    elif menuSecim == \"2\":\n",
        "      print(\"yeni kayıt ekle\")\n",
        "      yeniKayitEkle()\n",
        "    elif menuSecim == \"3\":\n",
        "      print(\"kayıt ara\")\n",
        "      kayitAra()\n",
        "    elif menuSecim == \"4\":\n",
        "      print(\"çıkış\")\n",
        "      break\n",
        "    else:\n",
        "      (\"\\n Lütfen yapmak istediğiniz işlemi giriniz... \\n 1-Kayıtları Listele \\n 2-Yeni Kayıt Ekle \\n 3-Kayıt Ara \\n 4-Çıkış \\n\")\n",
        "\n",
        "\n",
        "menu()\n",
        "\n"
      ]
    }
  ]
}