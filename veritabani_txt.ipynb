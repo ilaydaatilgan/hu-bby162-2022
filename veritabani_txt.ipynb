{
  "nbformat": 4,
  "nbformat_minor": 0,
  "metadata": {
    "colab": {
      "name": "veritabani.txt.ipynb",
      "provenance": [],
      "authorship_tag": "ABX9TyNBNfMrsR84e6GDWKlWufNT",
      "include_colab_link": true
    },
    "kernelspec": {
      "name": "python3",
      "display_name": "Python 3"
    },
    "language_info": {
      "name": "python"
    }
  },
  "cells": [
    {
      "cell_type": "markdown",
      "metadata": {
        "id": "view-in-github",
        "colab_type": "text"
      },
      "source": [
        "<a href=\"https://colab.research.google.com/github/ilaydaatilgan/hu-bby162-2022/blob/main/veritabani_txt.ipynb\" target=\"_parent\"><img src=\"https://colab.research.google.com/assets/colab-badge.svg\" alt=\"Open In Colab\"/></a>"
      ]
    },
    {
      "cell_type": "code",
      "execution_count": null,
      "metadata": {
        "id": "t45GPZeqC6FY"
      },
      "outputs": [],
      "source": [
        "İnce Memed - Yaşar Kemal - 2004 - Yapı Kredi Yayınları\n",
        "Kar - Orhan Pamuk - 2019 - Yapı Kredi Yayınları\n",
        "Devlet Ana - Kemal Tahir - 2019 - Yapı Kredi Yayınları\n",
        "Tutunamayanlar - Oğuz Atay - 2000 - İletişim Yayıncılık\n",
        "Ateşten Gömlek - Halide Edip Adıvar - 2007 - Can Yayınları"
      ]
    }
  ]
}